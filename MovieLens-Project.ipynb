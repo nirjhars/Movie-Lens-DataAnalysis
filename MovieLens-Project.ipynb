{
 "cells": [
  {
   "cell_type": "markdown",
   "metadata": {},
   "source": [
    "### `Project - MovieLens Data Analysis`\n",
    "\n",
    "The GroupLens Research Project is a research group in the Department of Computer Science and Engineering at the University of Minnesota. The data is widely used for collaborative filtering and other filtering solutions.\n",
    "\n",
    "### `Datasets Information:`\n",
    "\n",
    "*rating.csv:* It contains information on ratings given by the users to a particular movie.\n",
    "- user id: id assigned to every user\n",
    "- movie id: id assigned to every movie\n",
    "- rating: rating given by the user\n",
    "- timestamp: Time recorded when the user gave a rating\n",
    "\n",
    "*movie.csv:* File contains information related to the movies and their genre.\n",
    "- movie id: id assigned to every movie\n",
    "- movie title: Title of the movie\n",
    "- release date: Date of release of the movie\n",
    "- Action: Genre containing binary values (1 - for action 0 - not action)\n",
    "- Adventure: Genre containing binary values (1 - for adventure 0 - not adventure)\n",
    "- Animation: Genre containing binary values (1 - for animation 0 - not animation)\n",
    "- Children’s: Genre containing binary values (1 - for children's 0 - not children's)\n",
    "- Comedy: Genre containing binary values (1 - for comedy 0 - not comedy)\n",
    "- Crime: Genre containing binary values (1 - for crime 0 - not crime)\n",
    "- Documentary: Genre containing binary values (1 - for documentary 0 - not documentary)\n",
    "- Drama: Genre containing binary values (1 - for drama 0 - not drama)\n",
    "- Fantasy: Genre containing binary values (1 - for fantasy 0 - not fantasy)\n",
    "- Film-Noir: Genre containing binary values (1 - for film-noir 0 - not film-noir)\n",
    "- Horror: Genre containing binary values (1 - for horror 0 - not horror)\n",
    "- Musical: Genre containing binary values (1 - for musical 0 - not musical)\n",
    "- Mystery: Genre containing binary values (1 - for mystery 0 - not mystery)\n",
    "- Romance: Genre containing binary values (1 - for romance 0 - not romance)\n",
    "- Sci-Fi: Genre containing binary values (1 - for sci-fi 0 - not sci-fi)\n",
    "- Thriller: Genre containing binary values (1 - for thriller 0 - not thriller)\n",
    "- War: Genre containing binary values (1 - for war 0 - not war)\n",
    "- Western: Genre containing binary values (1 - for western - not western)\n",
    "\n",
    "\n",
    "*user.csv:* It contains information of the users who have rated the movies.\n",
    "- user id: id assigned to every user\n",
    "- age: Age of the user\n",
    "- gender: Gender of the user\n",
    "- occupation: Occupation of the user\n",
    "- zip code: Zip code of the use\n",
    "\n",
    "**`Please provide your insights wherever necessary.`**\n",
    "\n",
    "### `Learning Outcomes:`\n",
    "- Exploratory Data Analysis\n",
    "\n",
    "- Visualization using Python\n",
    "\n",
    "- Pandas – groupby, merging \n",
    "\n",
    "\n",
    "### `Domain` \n",
    "- Internet and Entertainment\n",
    "\n",
    "**Note that the project will need you to apply the concepts of groupby and merging extensively.**"
   ]
  },
  {
   "cell_type": "markdown",
   "metadata": {},
   "source": [
    "### 1. Import the necessary packages - 2.5 marks"
   ]
  },
  {
   "cell_type": "code",
   "execution_count": 167,
   "metadata": {},
   "outputs": [],
   "source": [
    "import numpy as np\n",
    "import pandas as pd\n",
    "import pandas_profiling\n",
    "import matplotlib.pyplot as plt\n",
    "import seaborn as sns"
   ]
  },
  {
   "cell_type": "markdown",
   "metadata": {},
   "source": [
    "### 2. Read the 3 datasets into dataframes - 2.5 marks"
   ]
  },
  {
   "cell_type": "code",
   "execution_count": 168,
   "metadata": {
    "scrolled": true
   },
   "outputs": [],
   "source": [
    "#your code here\n",
    "df_rating = pd.read_csv('./Data.csv')\n",
    "df_movie=pd.read_csv('./item.csv')\n",
    "df_user=pd.read_csv('./user.csv')"
   ]
  },
  {
   "cell_type": "markdown",
   "metadata": {},
   "source": [
    "### 3. Apply info, shape, describe, and find the number of missing values in the data. Present at least 3 observations from these operations - 2.5 marks\n",
    " - Note that you will need to do it for all the three datasets seperately"
   ]
  },
  {
   "cell_type": "code",
   "execution_count": 169,
   "metadata": {},
   "outputs": [
    {
     "name": "stdout",
     "output_type": "stream",
     "text": [
      "<class 'pandas.core.frame.DataFrame'>\n",
      "RangeIndex: 100000 entries, 0 to 99999\n",
      "Data columns (total 4 columns):\n",
      " #   Column     Non-Null Count   Dtype\n",
      "---  ------     --------------   -----\n",
      " 0   user id    100000 non-null  int64\n",
      " 1   movie id   100000 non-null  int64\n",
      " 2   rating     100000 non-null  int64\n",
      " 3   timestamp  100000 non-null  int64\n",
      "dtypes: int64(4)\n",
      "memory usage: 3.1 MB\n",
      "None\n",
      "----------\n",
      "(100000, 4)\n",
      "----------\n",
      "            user id       movie id         rating     timestamp\n",
      "count  100000.00000  100000.000000  100000.000000  1.000000e+05\n",
      "mean      462.48475     425.530130       3.529860  8.835289e+08\n",
      "std       266.61442     330.798356       1.125674  5.343856e+06\n",
      "min         1.00000       1.000000       1.000000  8.747247e+08\n",
      "25%       254.00000     175.000000       3.000000  8.794487e+08\n",
      "50%       447.00000     322.000000       4.000000  8.828269e+08\n",
      "75%       682.00000     631.000000       4.000000  8.882600e+08\n",
      "max       943.00000    1682.000000       5.000000  8.932866e+08\n",
      "----------\n",
      "user id      0\n",
      "movie id     0\n",
      "rating       0\n",
      "timestamp    0\n",
      "dtype: int64\n",
      "----------\n",
      "              count          mean           std          min          25%  \\\n",
      "user id    100000.0  4.624848e+02  2.666144e+02          1.0        254.0   \n",
      "movie id   100000.0  4.255301e+02  3.307984e+02          1.0        175.0   \n",
      "rating     100000.0  3.529860e+00  1.125674e+00          1.0          3.0   \n",
      "timestamp  100000.0  8.835289e+08  5.343856e+06  874724710.0  879448709.5   \n",
      "\n",
      "                   50%          75%          max  \n",
      "user id          447.0        682.0        943.0  \n",
      "movie id         322.0        631.0       1682.0  \n",
      "rating             4.0          4.0          5.0  \n",
      "timestamp  882826944.0  888259984.0  893286638.0  \n",
      "----------\n",
      "user id      0.082533\n",
      "movie id     0.986357\n",
      "rating      -0.510144\n",
      "timestamp    0.173886\n",
      "dtype: float64\n",
      "----------\n"
     ]
    }
   ],
   "source": [
    "# df_rating info, shape, describe and profiling \n",
    "print(df_rating.info())\n",
    "print('----------')\n",
    "print(df_rating.shape)\n",
    "print('----------')\n",
    "print(df_rating.describe())\n",
    "print('----------')\n",
    "print(df_rating.isna().sum())\n",
    "print('----------')\n",
    "print(df_rating.describe().T)\n",
    "print('----------')\n",
    "print(df_rating.skew())\n",
    "print('----------')\n",
    "\n",
    "#df_rating.profile_report()"
   ]
  },
  {
   "cell_type": "code",
   "execution_count": 170,
   "metadata": {},
   "outputs": [
    {
     "name": "stdout",
     "output_type": "stream",
     "text": [
      "<class 'pandas.core.frame.DataFrame'>\n",
      "RangeIndex: 1681 entries, 0 to 1680\n",
      "Data columns (total 22 columns):\n",
      " #   Column        Non-Null Count  Dtype \n",
      "---  ------        --------------  ----- \n",
      " 0   movie id      1681 non-null   int64 \n",
      " 1   movie title   1681 non-null   object\n",
      " 2   release date  1681 non-null   object\n",
      " 3   unknown       1681 non-null   int64 \n",
      " 4   Action        1681 non-null   int64 \n",
      " 5   Adventure     1681 non-null   int64 \n",
      " 6   Animation     1681 non-null   int64 \n",
      " 7   Childrens     1681 non-null   int64 \n",
      " 8   Comedy        1681 non-null   int64 \n",
      " 9   Crime         1681 non-null   int64 \n",
      " 10  Documentary   1681 non-null   int64 \n",
      " 11  Drama         1681 non-null   int64 \n",
      " 12  Fantasy       1681 non-null   int64 \n",
      " 13  Film-Noir     1681 non-null   int64 \n",
      " 14  Horror        1681 non-null   int64 \n",
      " 15  Musical       1681 non-null   int64 \n",
      " 16  Mystery       1681 non-null   int64 \n",
      " 17  Romance       1681 non-null   int64 \n",
      " 18  Sci-Fi        1681 non-null   int64 \n",
      " 19  Thriller      1681 non-null   int64 \n",
      " 20  War           1681 non-null   int64 \n",
      " 21  Western       1681 non-null   int64 \n",
      "dtypes: int64(20), object(2)\n",
      "memory usage: 289.0+ KB\n",
      "None\n",
      "----------\n",
      "(1681, 22)\n",
      "----------\n",
      "          movie id      unknown       Action    Adventure    Animation  \\\n",
      "count  1681.000000  1681.000000  1681.000000  1681.000000  1681.000000   \n",
      "mean    841.841761     0.000595     0.149316     0.080309     0.024985   \n",
      "std     485.638077     0.024390     0.356506     0.271852     0.156126   \n",
      "min       1.000000     0.000000     0.000000     0.000000     0.000000   \n",
      "25%     422.000000     0.000000     0.000000     0.000000     0.000000   \n",
      "50%     842.000000     0.000000     0.000000     0.000000     0.000000   \n",
      "75%    1262.000000     0.000000     0.000000     0.000000     0.000000   \n",
      "max    1682.000000     1.000000     1.000000     1.000000     1.000000   \n",
      "\n",
      "         Childrens       Comedy        Crime  Documentary        Drama  \\\n",
      "count  1681.000000  1681.000000  1681.000000  1681.000000  1681.000000   \n",
      "mean      0.072576     0.300416     0.064842     0.029744     0.431291   \n",
      "std       0.259516     0.458576     0.246321     0.169931     0.495404   \n",
      "min       0.000000     0.000000     0.000000     0.000000     0.000000   \n",
      "25%       0.000000     0.000000     0.000000     0.000000     0.000000   \n",
      "50%       0.000000     0.000000     0.000000     0.000000     0.000000   \n",
      "75%       0.000000     1.000000     0.000000     0.000000     1.000000   \n",
      "max       1.000000     1.000000     1.000000     1.000000     1.000000   \n",
      "\n",
      "           Fantasy    Film-Noir       Horror      Musical      Mystery  \\\n",
      "count  1681.000000  1681.000000  1681.000000  1681.000000  1681.000000   \n",
      "mean      0.013087     0.014277     0.054729     0.033314     0.036288   \n",
      "std       0.113683     0.118667     0.227519     0.179507     0.187061   \n",
      "min       0.000000     0.000000     0.000000     0.000000     0.000000   \n",
      "25%       0.000000     0.000000     0.000000     0.000000     0.000000   \n",
      "50%       0.000000     0.000000     0.000000     0.000000     0.000000   \n",
      "75%       0.000000     0.000000     0.000000     0.000000     0.000000   \n",
      "max       1.000000     1.000000     1.000000     1.000000     1.000000   \n",
      "\n",
      "           Romance       Sci-Fi     Thriller          War      Western  \n",
      "count  1681.000000  1681.000000  1681.000000  1681.000000  1681.000000  \n",
      "mean      0.146936     0.060083     0.149316     0.042237     0.016062  \n",
      "std       0.354148     0.237712     0.356506     0.201189     0.125751  \n",
      "min       0.000000     0.000000     0.000000     0.000000     0.000000  \n",
      "25%       0.000000     0.000000     0.000000     0.000000     0.000000  \n",
      "50%       0.000000     0.000000     0.000000     0.000000     0.000000  \n",
      "75%       0.000000     0.000000     0.000000     0.000000     0.000000  \n",
      "max       1.000000     1.000000     1.000000     1.000000     1.000000  \n",
      "----------\n",
      "movie id        0\n",
      "movie title     0\n",
      "release date    0\n",
      "unknown         0\n",
      "Action          0\n",
      "Adventure       0\n",
      "Animation       0\n",
      "Childrens       0\n",
      "Comedy          0\n",
      "Crime           0\n",
      "Documentary     0\n",
      "Drama           0\n",
      "Fantasy         0\n",
      "Film-Noir       0\n",
      "Horror          0\n",
      "Musical         0\n",
      "Mystery         0\n",
      "Romance         0\n",
      "Sci-Fi          0\n",
      "Thriller        0\n",
      "War             0\n",
      "Western         0\n",
      "dtype: int64\n",
      "----------\n",
      "              count        mean         std  min    25%    50%     75%     max\n",
      "movie id     1681.0  841.841761  485.638077  1.0  422.0  842.0  1262.0  1682.0\n",
      "unknown      1681.0    0.000595    0.024390  0.0    0.0    0.0     0.0     1.0\n",
      "Action       1681.0    0.149316    0.356506  0.0    0.0    0.0     0.0     1.0\n",
      "Adventure    1681.0    0.080309    0.271852  0.0    0.0    0.0     0.0     1.0\n",
      "Animation    1681.0    0.024985    0.156126  0.0    0.0    0.0     0.0     1.0\n",
      "Childrens    1681.0    0.072576    0.259516  0.0    0.0    0.0     0.0     1.0\n",
      "Comedy       1681.0    0.300416    0.458576  0.0    0.0    0.0     1.0     1.0\n",
      "Crime        1681.0    0.064842    0.246321  0.0    0.0    0.0     0.0     1.0\n",
      "Documentary  1681.0    0.029744    0.169931  0.0    0.0    0.0     0.0     1.0\n",
      "Drama        1681.0    0.431291    0.495404  0.0    0.0    0.0     1.0     1.0\n",
      "Fantasy      1681.0    0.013087    0.113683  0.0    0.0    0.0     0.0     1.0\n",
      "Film-Noir    1681.0    0.014277    0.118667  0.0    0.0    0.0     0.0     1.0\n",
      "Horror       1681.0    0.054729    0.227519  0.0    0.0    0.0     0.0     1.0\n",
      "Musical      1681.0    0.033314    0.179507  0.0    0.0    0.0     0.0     1.0\n",
      "Mystery      1681.0    0.036288    0.187061  0.0    0.0    0.0     0.0     1.0\n",
      "Romance      1681.0    0.146936    0.354148  0.0    0.0    0.0     0.0     1.0\n",
      "Sci-Fi       1681.0    0.060083    0.237712  0.0    0.0    0.0     0.0     1.0\n",
      "Thriller     1681.0    0.149316    0.356506  0.0    0.0    0.0     0.0     1.0\n",
      "War          1681.0    0.042237    0.201189  0.0    0.0    0.0     0.0     1.0\n",
      "Western      1681.0    0.016062    0.125751  0.0    0.0    0.0     0.0     1.0\n",
      "----------\n",
      "movie id       -0.001127\n",
      "unknown        41.000000\n",
      "Action          1.969685\n",
      "Adventure       3.091314\n",
      "Animation       6.092262\n",
      "Childrens       3.297931\n",
      "Comedy          0.871487\n",
      "Crime           3.537469\n",
      "Documentary     5.541249\n",
      "Drama           0.277717\n",
      "Fantasy         8.576339\n",
      "Film-Noir       8.196097\n",
      "Horror          3.918806\n",
      "Musical         5.205831\n",
      "Mystery         4.963768\n",
      "Romance         1.996252\n",
      "Sci-Fi          3.705670\n",
      "Thriller        1.969685\n",
      "War             4.556006\n",
      "Western         7.705942\n",
      "dtype: float64\n",
      "----------\n"
     ]
    }
   ],
   "source": [
    "# df_rating info, shape, describe and profiling \n",
    "print(df_movie.info())\n",
    "print('----------')\n",
    "print(df_movie.shape)\n",
    "print('----------')\n",
    "print(df_movie.describe())\n",
    "print('----------')\n",
    "print(df_movie.isna().sum())\n",
    "print('----------')\n",
    "print(df_movie.describe().T)\n",
    "print('----------')\n",
    "print(df_movie.skew())\n",
    "print('----------')\n",
    "\n",
    "#df_movie.profile_report()"
   ]
  },
  {
   "cell_type": "code",
   "execution_count": 171,
   "metadata": {},
   "outputs": [
    {
     "name": "stdout",
     "output_type": "stream",
     "text": [
      "<class 'pandas.core.frame.DataFrame'>\n",
      "RangeIndex: 943 entries, 0 to 942\n",
      "Data columns (total 5 columns):\n",
      " #   Column      Non-Null Count  Dtype \n",
      "---  ------      --------------  ----- \n",
      " 0   user id     943 non-null    int64 \n",
      " 1   age         943 non-null    int64 \n",
      " 2   gender      943 non-null    object\n",
      " 3   occupation  943 non-null    object\n",
      " 4   zip code    943 non-null    object\n",
      "dtypes: int64(2), object(3)\n",
      "memory usage: 37.0+ KB\n",
      "None\n",
      "----------\n",
      "(943, 5)\n",
      "----------\n",
      "          user id         age\n",
      "count  943.000000  943.000000\n",
      "mean   472.000000   34.051962\n",
      "std    272.364951   12.192740\n",
      "min      1.000000    7.000000\n",
      "25%    236.500000   25.000000\n",
      "50%    472.000000   31.000000\n",
      "75%    707.500000   43.000000\n",
      "max    943.000000   73.000000\n",
      "----------\n",
      "user id       0\n",
      "age           0\n",
      "gender        0\n",
      "occupation    0\n",
      "zip code      0\n",
      "dtype: int64\n",
      "----------\n",
      "         count        mean         std  min    25%    50%    75%    max\n",
      "user id  943.0  472.000000  272.364951  1.0  236.5  472.0  707.5  943.0\n",
      "age      943.0   34.051962   12.192740  7.0   25.0   31.0   43.0   73.0\n",
      "----------\n",
      "user id    0.000000\n",
      "age        0.605382\n",
      "dtype: float64\n",
      "----------\n"
     ]
    }
   ],
   "source": [
    "print(df_user.info())\n",
    "print('----------')\n",
    "print(df_user.shape)\n",
    "print('----------')\n",
    "print(df_user.describe())\n",
    "print('----------')\n",
    "print(df_user.isna().sum())\n",
    "print('----------')\n",
    "print(df_user.describe().T)\n",
    "print('----------')\n",
    "print(df_user.skew())\n",
    "print('----------')\n",
    "\n",
    "#df_user.profile_report()"
   ]
  },
  {
   "cell_type": "code",
   "execution_count": null,
   "metadata": {},
   "outputs": [],
   "source": []
  },
  {
   "cell_type": "markdown",
   "metadata": {},
   "source": [
    "**Observations:\n",
    "\n",
    "1: Data CSV\n",
    "- Mean rating of the movies is 3.529860\n",
    "- No null values\n",
    "- Rating is left skewed\n",
    "\n",
    "\n",
    "2 Movie csv\n",
    "- HIghest number of movies have Drama Genre\n",
    "- no null values\n",
    "- One movie marked as unknown Genre\n",
    "\n",
    "3: USER CSV\n",
    "- User csv - most of the reviewers have a age of over 25 \n",
    "- no null values\n",
    "- Mean is higher than median for the age - age distrubution of the reviewer is left skewed\n",
    "\n",
    "**\n",
    "\n"
   ]
  },
  {
   "cell_type": "markdown",
   "metadata": {},
   "source": [
    "### 4. Find the number of movies per genre using the item data - 2.5 marks"
   ]
  },
  {
   "cell_type": "code",
   "execution_count": 172,
   "metadata": {},
   "outputs": [
    {
     "data": {
      "text/plain": [
       "unknown          1\n",
       "Action         251\n",
       "Adventure      135\n",
       "Animation       42\n",
       "Childrens      122\n",
       "Comedy         505\n",
       "Crime          109\n",
       "Documentary     50\n",
       "Drama          725\n",
       "Fantasy         22\n",
       "Film-Noir       24\n",
       "Horror          92\n",
       "Musical         56\n",
       "Mystery         61\n",
       "Romance        247\n",
       "Sci-Fi         101\n",
       "Thriller       251\n",
       "War             71\n",
       "Western         27\n",
       "dtype: int64"
      ]
     },
     "execution_count": 172,
     "metadata": {},
     "output_type": "execute_result"
    }
   ],
   "source": [
    "#your code here\n",
    "df_movie_genre=df_movie.copy()\n",
    "df_movie_genre.drop(['movie id','movie title','release date'], axis=1, inplace=True)\n",
    "df_movie_genre.sum()\n"
   ]
  },
  {
   "cell_type": "markdown",
   "metadata": {},
   "source": [
    "**Insights:**\n",
    "\n"
   ]
  },
  {
   "cell_type": "markdown",
   "metadata": {},
   "source": [
    "### 5. Drop the movie where the genre is unknown - 2.5 marks"
   ]
  },
  {
   "cell_type": "code",
   "execution_count": 173,
   "metadata": {},
   "outputs": [
    {
     "name": "stdout",
     "output_type": "stream",
     "text": [
      "0    1680\n",
      "1       1\n",
      "Name: unknown, dtype: int64\n",
      "-----After Dropping row with unknown genre----\n",
      "0    1680\n",
      "Name: unknown, dtype: int64\n"
     ]
    }
   ],
   "source": [
    "#your code here\n",
    "print(df_movie['unknown'].value_counts())\n",
    "df_movie.drop(df_movie[df_movie['unknown'] == 1].index, inplace = True)\n",
    "print('-----After Dropping row with unknown genre----')\n",
    "print(df_movie['unknown'].value_counts())"
   ]
  },
  {
   "cell_type": "markdown",
   "metadata": {},
   "source": [
    "**Insights:**\n"
   ]
  },
  {
   "cell_type": "markdown",
   "metadata": {},
   "source": [
    "### 6. Find the movies that have more than one genre - 5 marks\n",
    "\n",
    "hint: use sum on the axis = 1\n",
    "\n",
    "Display movie name, number of genres for the movie in dataframe\n",
    "\n",
    "and also print(total number of movies which have more than one genres)"
   ]
  },
  {
   "cell_type": "code",
   "execution_count": 174,
   "metadata": {},
   "outputs": [
    {
     "name": "stdout",
     "output_type": "stream",
     "text": [
      "             movie title  genre_num\n",
      "0             Toy Story           3\n",
      "1             GoldenEye           3\n",
      "3            Get Shorty           3\n",
      "4               Copycat           3\n",
      "6        Twelve Monkeys           2\n",
      "...                  ...        ...\n",
      "1667  MURDER and murder           3\n",
      "1668            Tainted           2\n",
      "1671             Mirage           2\n",
      "1677          B. Monkey           2\n",
      "1678      Sliding Doors           2\n",
      "\n",
      "[849 rows x 2 columns]\n",
      "Total number of movies with multiple Genres are: \n",
      "849\n"
     ]
    }
   ],
   "source": [
    "#your code here\n",
    "# create another column which is sum of all the genre type \n",
    "df_movie['genre_num']=df_movie['Action']+df_movie['Adventure']+df_movie['Animation']+df_movie['Childrens']+df_movie['Comedy']+df_movie['Crime']+df_movie['Documentary']+df_movie['Drama'] +df_movie['Fantasy']+df_movie['Film-Noir']+df_movie['Horror'] +df_movie['Musical'] +df_movie['Mystery'] +df_movie['Romance'] +df_movie['Sci-Fi'] +df_movie['Thriller'] +df_movie['War'] +df_movie['Western']\n",
    "df_movie_multi_genre=df_movie[df_movie['genre_num']>1]\n",
    "df_movie_multi_genre[['movie title','genre_num']]\n",
    "\n",
    "print(df_movie_multi_genre[['movie title','genre_num']])\n",
    "\n",
    "print('Total number of movies with multiple Genres are: ')\n",
    "print(len(df_movie_multi_genre.index))\n",
    "\n"
   ]
  },
  {
   "cell_type": "markdown",
   "metadata": {},
   "source": [
    "**Insights:**\n",
    "\n"
   ]
  },
  {
   "cell_type": "markdown",
   "metadata": {},
   "source": [
    "### 7. Univariate plots of columns: 'rating', 'Age', 'release year', 'Gender' and 'Occupation' - 10 marks\n",
    "\n",
    "*HINT: Use distplot for age and countplot for release year, ratings, \n",
    "\n",
    "*\n",
    "\n",
    "*HINT: Please refer to the below snippet to understand how to get to release year from release date. You can use str.split() as depicted below or you could convert it to pandas datetime format and extract year (.dt.year)*"
   ]
  },
  {
   "cell_type": "code",
   "execution_count": 175,
   "metadata": {},
   "outputs": [
    {
     "name": "stdout",
     "output_type": "stream",
     "text": [
      "brown\n",
      "brown\n",
      "brown\n"
     ]
    }
   ],
   "source": [
    "a = 'My*cat*is*brown'\n",
    "print(a.split('*')[3])\n",
    "\n",
    "#similarly, the release year needs to be taken out from release date\n",
    "\n",
    "#also you can simply slice existing string to get the desired data, if we want to take out the colour of the cat\n",
    "\n",
    "print(a[10:])\n",
    "print(a[-5:])"
   ]
  },
  {
   "cell_type": "code",
   "execution_count": 176,
   "metadata": {},
   "outputs": [
    {
     "name": "stderr",
     "output_type": "stream",
     "text": [
      "/Users/nirjhar/opt/anaconda3/lib/python3.7/site-packages/seaborn/_decorators.py:43: FutureWarning: Pass the following variable as a keyword arg: x. From version 0.12, the only valid positional argument will be `data`, and passing other arguments without an explicit keyword will result in an error or misinterpretation.\n",
      "  FutureWarning\n"
     ]
    },
    {
     "data": {
      "image/png": "[encoded data removed]",
      "text/plain": [
       "<Figure size 432x288 with 1 Axes>"
      ]
     },
     "metadata": {
      "needs_background": "light"
     },
     "output_type": "display_data"
    }
   ],
   "source": [
    "sns.countplot(df_rating['rating']);"
   ]
  },
  {
   "cell_type": "code",
   "execution_count": 177,
   "metadata": {},
   "outputs": [
    {
     "data": {
      "image/png": "[encoded data removed]",
      "text/plain": [
       "<Figure size 360x360 with 1 Axes>"
      ]
     },
     "metadata": {
      "needs_background": "light"
     },
     "output_type": "display_data"
    }
   ],
   "source": [
    "sns.displot(df_user['age'],kde=True);"
   ]
  },
  {
   "cell_type": "code",
   "execution_count": 178,
   "metadata": {},
   "outputs": [
    {
     "data": {
      "image/png": "[encoded data removed]",
      "text/plain": [
       "<Figure size 1080x432 with 1 Axes>"
      ]
     },
     "metadata": {
      "needs_background": "light"
     },
     "output_type": "display_data"
    }
   ],
   "source": [
    "#release year\n",
    "\n",
    "df_movie['release_date'] = pd.to_datetime(df_movie['release date'])\n",
    "df_movie['year']=df_movie['release_date'].dt.year\n",
    "\n",
    "\n",
    "chart_dimension = (15, 6)\n",
    "fig, ax = plt.subplots(figsize=chart_dimension)\n",
    "chart = sns.countplot(data=df_movie, x=\"year\", ax=ax);\n",
    "chart.set_xticklabels(chart.get_xticklabels(), rotation=90)\n",
    "None\n",
    "\n",
    "\n",
    "#sns.countplot(df_movie['year']);"
   ]
  },
  {
   "cell_type": "code",
   "execution_count": 179,
   "metadata": {},
   "outputs": [
    {
     "name": "stderr",
     "output_type": "stream",
     "text": [
      "/Users/nirjhar/opt/anaconda3/lib/python3.7/site-packages/seaborn/_decorators.py:43: FutureWarning: Pass the following variable as a keyword arg: x. From version 0.12, the only valid positional argument will be `data`, and passing other arguments without an explicit keyword will result in an error or misinterpretation.\n",
      "  FutureWarning\n"
     ]
    },
    {
     "data": {
      "image/png": "[encoded data removed]",
      "text/plain": [
       "<Figure size 432x288 with 1 Axes>"
      ]
     },
     "metadata": {
      "needs_background": "light"
     },
     "output_type": "display_data"
    }
   ],
   "source": [
    "sns.countplot(df_user['gender']);"
   ]
  },
  {
   "cell_type": "code",
   "execution_count": 180,
   "metadata": {},
   "outputs": [
    {
     "data": {
      "image/png": "[encoded data removed]",
      "text/plain": [
       "<Figure size 1080x432 with 1 Axes>"
      ]
     },
     "metadata": {
      "needs_background": "light"
     },
     "output_type": "display_data"
    }
   ],
   "source": [
    "chart_dimension = (15, 6)\n",
    "fig, ax = plt.subplots(figsize=chart_dimension)\n",
    "chart = sns.countplot(data=df_user, x=\"occupation\", ax=ax);\n",
    "chart.set_xticklabels(chart.get_xticklabels(), rotation=90)\n",
    "None\n"
   ]
  },
  {
   "cell_type": "code",
   "execution_count": null,
   "metadata": {},
   "outputs": [],
   "source": []
  },
  {
   "cell_type": "markdown",
   "metadata": {},
   "source": [
    "### 8. Visualize how popularity of genres has changed over the years - 10 marks\n",
    "\n",
    "Note that you need to use the **percent of number of releases in a year** as a parameter of popularity of a genre\n",
    "\n",
    "Hint 1: You need to reach to a data frame where the release year is the index and the genre is the column names (one cell shows the number of release in a year in one genre) or vice versa. (Drop unnecessary column if there are any)\n",
    "\n",
    "Hint 2: Find the total number of movies release in a year(use item dataset to get count of movies released in a particular year, store that value in a new column as 'total'). Now divide the value of each genre in that year by total to get percentage number of release in a particular year.\n",
    "`(df.div(df['total'], axis= 0) * 100)`\n",
    "\n",
    "Once that is achieved, you can either use univariate plots or can use the heatmap to visualise all the changes over the years \n",
    "in one go. \n",
    "\n",
    "Hint 3: Use groupby on the relevant column and use sum() on the same to find out the number of releases in a year/genre."
   ]
  },
  {
   "cell_type": "code",
   "execution_count": 181,
   "metadata": {},
   "outputs": [
    {
     "data": {
      "image/png": "[encoded data removed]",
      "text/plain": [
       "<Figure size 1080x720 with 2 Axes>"
      ]
     },
     "metadata": {
      "needs_background": "light"
     },
     "output_type": "display_data"
    }
   ],
   "source": [
    "#your code here\n",
    "#creating a copy and cleaning up not required fields\n",
    "#Year column was added in the section above - to determine the release year from the date column\n",
    "df_genre = df_movie.copy()\n",
    "df_genre.set_index('year',inplace=True)\n",
    "df_genre.drop(['movie id','movie title','release date','release_date','genre_num','unknown'], axis=1, inplace=True)\n",
    "\n",
    "df_genre.head()\n",
    "\n",
    "#renaming the column to remove the - in the names\n",
    "df_genre.rename(columns = {'Film-Noir':'FilmNoir'}, inplace=True)\n",
    "df_genre.rename(columns = {'Sci-Fi':'SciFi'}, inplace=True)\n",
    "\n",
    "#number of releases in year and percentages\n",
    "df_genre_sum = df_genre.groupby('year').sum()\n",
    "df_genre_sum['total']=df_genre_sum.sum(axis=1)\n",
    "df_genre_pct=(df_genre_sum.div(df_genre_sum['total'], axis = 0)*100)\n",
    "\n",
    "df_genre_pct.drop(['total'], axis=1, inplace=True)\n",
    "df_genre_pct.head(100)\n",
    "\n",
    "#heatmap \n",
    "chart_dimension = (15, 10)\n",
    "fig, ax = plt.subplots(figsize=chart_dimension)\n",
    "chart = sns.heatmap(df_genre_pct);\n",
    "None"
   ]
  },
  {
   "cell_type": "markdown",
   "metadata": {},
   "source": [
    "**Insights:**\n",
    "\n"
   ]
  },
  {
   "cell_type": "markdown",
   "metadata": {},
   "source": [
    "### 9. Find the top 25 movies in terms of average ratings for movies that have been rated more than 100 times - 10 marks\n",
    "\n",
    "Hints : \n",
    "\n",
    "1. Find the count of ratings and average ratings for every movie.\n",
    "2. Slice the movies which have ratings more than 100.\n",
    "3. Sort values according to average rating such that movie which highest rating is on top.\n",
    "4. Select top 25 movies.\n",
    "5. You will have to use the .merge() function to get the movie titles.\n",
    "\n",
    "Note: This question will need you to research about groupby and apply your findings. You can find more on groupby on https://realpython.com/pandas-groupby/."
   ]
  },
  {
   "cell_type": "code",
   "execution_count": 182,
   "metadata": {},
   "outputs": [
    {
     "name": "stdout",
     "output_type": "stream",
     "text": [
      "0                                       Close Shave, A \n",
      "1                                     Schindler's List \n",
      "2                                  Wrong Trousers, The \n",
      "3                                           Casablanca \n",
      "4                            Shawshank Redemption, The \n",
      "5                                          Rear Window \n",
      "6                                  Usual Suspects, The \n",
      "7                                            Star Wars \n",
      "8                                         12 Angry Men \n",
      "9                                         Citizen Kane \n",
      "10                               To Kill a Mockingbird \n",
      "11                     One Flew Over the Cuckoo's Nest \n",
      "12                           Silence of the Lambs, The \n",
      "13                                  North by Northwest \n",
      "14                                      Godfather, The \n",
      "15                                      Secrets & Lies \n",
      "16                                   Good Will Hunting \n",
      "17                           Manchurian Candidate, The \n",
      "18    Dr. Strangelove or: How I Learned to Stop Worr...\n",
      "19                             Raiders of the Lost Ark \n",
      "20                                             Vertigo \n",
      "21                                             Titanic \n",
      "22                                  Lawrence of Arabia \n",
      "23                                 Maltese Falcon, The \n",
      "24                            Empire Strikes Back, The \n",
      "Name: movie title, dtype: object\n"
     ]
    }
   ],
   "source": [
    "#your code here\n",
    "\n",
    "# 1 \n",
    "df_local_rating = df_rating.copy()\n",
    "\n",
    "#column which will be used for rating_count information\n",
    "df_local_rating['rating_count'] = df_local_rating['rating'] \n",
    "\n",
    "ser1=df_local_rating.groupby('movie id')[\"rating_count\"].count()\n",
    "ser2 = df_local_rating.groupby('movie id')[\"rating\"].mean()\n",
    "\n",
    "df1=pd.concat([ser1,ser2],axis=1,sort=False)\n",
    "\n",
    "# 2 - dropping rows for movie IDs where equal to or less than 100 ratings\n",
    "df1.drop(df1[df1['rating_count']<101].index,inplace = True)\n",
    "\n",
    "# 3 sorting by movie ratings\n",
    "df1.sort_values(by='rating',ascending=False,inplace=True)\n",
    "df1.head(25)\n",
    "\n",
    "#4,5 - merging with the movie title - df_movie dataframe\n",
    "\n",
    "df2 = pd.merge(df1, df_movie, on = 'movie id', how= 'left' )\n",
    "movie_titles = df2['movie title'].head(25)\n",
    "\n",
    "print(movie_titles)\n"
   ]
  },
  {
   "cell_type": "markdown",
   "metadata": {},
   "source": [
    "### 10. Check for the validity of the below statements with respect to the data provided - 10 marks\n",
    "\n",
    "* Men watch more drama than women\n",
    "* Women watch more Sci-Fi than men\n",
    "* Men watch more Romance than women\n",
    "\n",
    "**compare the percentages**\n",
    "\n",
    "**Please pay attention to what should be the denominator while calculating percentages**"
   ]
  },
  {
   "cell_type": "markdown",
   "metadata": {},
   "source": [
    "1. Merge all the datasets\n",
    "\n",
    "2. There is no need to conduct statistical tests around this. Just **compare the percentages** and comment on the validity of the above statements.\n",
    "\n",
    "3. you might want ot use the .sum(), .div() function here.\n",
    "\n",
    "4. Use number of ratings to validate the numbers. For example, if out of 4000 ratings received by women, 3000 are for drama, we will assume that 75% of the women watch drama."
   ]
  },
  {
   "cell_type": "code",
   "execution_count": 183,
   "metadata": {},
   "outputs": [
    {
     "data": {
      "text/html": [
       "<div>\n",
       "<style scoped>\n",
       "    .dataframe tbody tr th:only-of-type {\n",
       "        vertical-align: middle;\n",
       "    }\n",
       "\n",
       "    .dataframe tbody tr th {\n",
       "        vertical-align: top;\n",
       "    }\n",
       "\n",
       "    .dataframe thead th {\n",
       "        text-align: right;\n",
       "    }\n",
       "</style>\n",
       "<table border=\"1\" class=\"dataframe\">\n",
       "  <thead>\n",
       "    <tr style=\"text-align: right;\">\n",
       "      <th></th>\n",
       "      <th>Action</th>\n",
       "      <th>Adventure</th>\n",
       "      <th>Animation</th>\n",
       "      <th>Childrens</th>\n",
       "      <th>Comedy</th>\n",
       "      <th>Crime</th>\n",
       "      <th>Documentary</th>\n",
       "      <th>Drama</th>\n",
       "      <th>Fantasy</th>\n",
       "      <th>Film-Noir</th>\n",
       "      <th>Horror</th>\n",
       "      <th>Musical</th>\n",
       "      <th>Mystery</th>\n",
       "      <th>Romance</th>\n",
       "      <th>Sci-Fi</th>\n",
       "      <th>Thriller</th>\n",
       "      <th>War</th>\n",
       "      <th>Western</th>\n",
       "      <th>Total</th>\n",
       "    </tr>\n",
       "    <tr>\n",
       "      <th>gender</th>\n",
       "      <th></th>\n",
       "      <th></th>\n",
       "      <th></th>\n",
       "      <th></th>\n",
       "      <th></th>\n",
       "      <th></th>\n",
       "      <th></th>\n",
       "      <th></th>\n",
       "      <th></th>\n",
       "      <th></th>\n",
       "      <th></th>\n",
       "      <th></th>\n",
       "      <th></th>\n",
       "      <th></th>\n",
       "      <th></th>\n",
       "      <th></th>\n",
       "      <th></th>\n",
       "      <th></th>\n",
       "      <th></th>\n",
       "    </tr>\n",
       "  </thead>\n",
       "  <tbody>\n",
       "    <tr>\n",
       "      <th>F</th>\n",
       "      <td>21.142191</td>\n",
       "      <td>12.202797</td>\n",
       "      <td>3.865579</td>\n",
       "      <td>8.671329</td>\n",
       "      <td>31.344211</td>\n",
       "      <td>6.969697</td>\n",
       "      <td>0.726496</td>\n",
       "      <td>42.766123</td>\n",
       "      <td>1.410256</td>\n",
       "      <td>1.495726</td>\n",
       "      <td>4.650350</td>\n",
       "      <td>5.602176</td>\n",
       "      <td>5.104895</td>\n",
       "      <td>22.758353</td>\n",
       "      <td>10.213675</td>\n",
       "      <td>19.759130</td>\n",
       "      <td>8.504274</td>\n",
       "      <td>1.441336</td>\n",
       "      <td>100.0</td>\n",
       "    </tr>\n",
       "    <tr>\n",
       "      <th>M</th>\n",
       "      <td>27.130353</td>\n",
       "      <td>14.290331</td>\n",
       "      <td>3.514678</td>\n",
       "      <td>6.665769</td>\n",
       "      <td>29.307837</td>\n",
       "      <td>8.431188</td>\n",
       "      <td>0.768920</td>\n",
       "      <td>38.899811</td>\n",
       "      <td>1.331807</td>\n",
       "      <td>1.815244</td>\n",
       "      <td>5.548074</td>\n",
       "      <td>4.729329</td>\n",
       "      <td>5.293563</td>\n",
       "      <td>18.318072</td>\n",
       "      <td>13.602208</td>\n",
       "      <td>22.604363</td>\n",
       "      <td>9.707783</td>\n",
       "      <td>1.997037</td>\n",
       "      <td>100.0</td>\n",
       "    </tr>\n",
       "  </tbody>\n",
       "</table>\n",
       "</div>"
      ],
      "text/plain": [
       "           Action  Adventure  Animation  Childrens     Comedy     Crime  \\\n",
       "gender                                                                    \n",
       "F       21.142191  12.202797   3.865579   8.671329  31.344211  6.969697   \n",
       "M       27.130353  14.290331   3.514678   6.665769  29.307837  8.431188   \n",
       "\n",
       "        Documentary      Drama   Fantasy  Film-Noir    Horror   Musical  \\\n",
       "gender                                                                    \n",
       "F          0.726496  42.766123  1.410256   1.495726  4.650350  5.602176   \n",
       "M          0.768920  38.899811  1.331807   1.815244  5.548074  4.729329   \n",
       "\n",
       "         Mystery    Romance     Sci-Fi   Thriller       War   Western  Total  \n",
       "gender                                                                        \n",
       "F       5.104895  22.758353  10.213675  19.759130  8.504274  1.441336  100.0  \n",
       "M       5.293563  18.318072  13.602208  22.604363  9.707783  1.997037  100.0  "
      ]
     },
     "execution_count": 183,
     "metadata": {},
     "output_type": "execute_result"
    }
   ],
   "source": [
    "#your code here\n",
    "# creating a new copy of df_rating to merge all the dataframes\n",
    "df_rating_merged=df_rating.copy()\n",
    "\n",
    "#merge merge  (data/item) with user - on user id, left join \n",
    "df_rating_merged  = pd.merge(df_rating_merged, df_user, on = 'user id', how= 'left' )\n",
    "df_rating_merged = pd.merge(df_rating_merged, df_movie, on = 'movie id', how= 'left' )\n",
    "\n",
    "df_rating_merged.drop(['user id','movie id', 'rating','timestamp','age','unknown','genre_num','year'], axis=1, inplace=True)\n",
    "\n",
    "df_group_by_gender = df_rating_merged.groupby('gender').sum()\n",
    "df_group_by_gender['Total']=df_rating_merged['gender'].value_counts()\n",
    "df_group_by_gender=df_group_by_gender.div(df_group_by_gender.Total,axis=0)*100\n",
    "\n",
    "df_group_by_gender.head()\n",
    "\n",
    "\n",
    "## \n",
    "##Men watch more drama than women -- INCORRECT - 42.7% Women watch drama compared to 38.8% Men\n",
    "##Women watch more Sci-Fi than men -- INCORRECT - 10.21% Women watch Sci-fi compared to 13.6% Men\n",
    "##Men watch more Romance than women -- INCORRECT  - 22.7% Women watch Romance compared to 18.31% Men"
   ]
  },
  {
   "cell_type": "markdown",
   "metadata": {},
   "source": [
    "**Conclusion:**\n",
    "    \n",
    "\n",
    "1. Men watch more drama than women -- INCORRECT - 42.7% Women watch drama compared to 38.8% Men\n",
    "2. Women watch more Sci-Fi than men -- INCORRECT - 10.21% Women watch Sci-fi compared to 13.6% Men\n",
    "3. Men watch more Romance than women -- INCORRECT  - 22.7% Women watch Romance compared to 18.31% Men\n"
   ]
  },
  {
   "cell_type": "code",
   "execution_count": null,
   "metadata": {},
   "outputs": [],
   "source": []
  },
  {
   "cell_type": "code",
   "execution_count": null,
   "metadata": {},
   "outputs": [],
   "source": []
  }
 ],
 "metadata": {
  "kernelspec": {
   "display_name": "Python 3",
   "language": "python",
   "name": "python3"
  },
  "language_info": {
   "codemirror_mode": {
    "name": "ipython",
    "version": 3
   },
   "file_extension": ".py",
   "mimetype": "text/x-python",
   "name": "python",
   "nbconvert_exporter": "python",
   "pygments_lexer": "ipython3",
   "version": "3.7.10"
  }
 },
 "nbformat": 4,
 "nbformat_minor": 2
}
