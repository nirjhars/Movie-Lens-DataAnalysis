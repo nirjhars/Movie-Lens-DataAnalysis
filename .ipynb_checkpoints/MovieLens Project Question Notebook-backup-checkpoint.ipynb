{
 "cells": [
  {
   "cell_type": "markdown",
   "metadata": {},
   "source": [
    "### `Project - MovieLens Data Analysis`\n",
    "\n",
    "The GroupLens Research Project is a research group in the Department of Computer Science and Engineering at the University of Minnesota. The data is widely used for collaborative filtering and other filtering solutions. However, we will be using this data to act as a means to demonstrate our skill in using Python to “play” with data.\n",
    "\n",
    "### `Objective:`\n",
    "- To implement the techniques learnt as a part of the course.\n",
    "\n",
    "### `Datasets Information:`\n",
    "\n",
    "*rating.csv:* It contains information on ratings given by the users to a particular movie.\n",
    "- user id: id assigned to every user\n",
    "- movie id: id assigned to every movie\n",
    "- rating: rating given by the user\n",
    "- timestamp: Time recorded when the user gave a rating\n",
    "\n",
    "*movie.csv:* File contains information related to the movies and their genre.\n",
    "- movie id: id assigned to every movie\n",
    "- movie title: Title of the movie\n",
    "- release date: Date of release of the movie\n",
    "- Action: Genre containing binary values (1 - for action 0 - not action)\n",
    "- Adventure: Genre containing binary values (1 - for adventure 0 - not adventure)\n",
    "- Animation: Genre containing binary values (1 - for animation 0 - not animation)\n",
    "- Children’s: Genre containing binary values (1 - for children's 0 - not children's)\n",
    "- Comedy: Genre containing binary values (1 - for comedy 0 - not comedy)\n",
    "- Crime: Genre containing binary values (1 - for crime 0 - not crime)\n",
    "- Documentary: Genre containing binary values (1 - for documentary 0 - not documentary)\n",
    "- Drama: Genre containing binary values (1 - for drama 0 - not drama)\n",
    "- Fantasy: Genre containing binary values (1 - for fantasy 0 - not fantasy)\n",
    "- Film-Noir: Genre containing binary values (1 - for film-noir 0 - not film-noir)\n",
    "- Horror: Genre containing binary values (1 - for horror 0 - not horror)\n",
    "- Musical: Genre containing binary values (1 - for musical 0 - not musical)\n",
    "- Mystery: Genre containing binary values (1 - for mystery 0 - not mystery)\n",
    "- Romance: Genre containing binary values (1 - for romance 0 - not romance)\n",
    "- Sci-Fi: Genre containing binary values (1 - for sci-fi 0 - not sci-fi)\n",
    "- Thriller: Genre containing binary values (1 - for thriller 0 - not thriller)\n",
    "- War: Genre containing binary values (1 - for war 0 - not war)\n",
    "- Western: Genre containing binary values (1 - for western - not western)\n",
    "\n",
    "\n",
    "*user.csv:* It contains information of the users who have rated the movies.\n",
    "- user id: id assigned to every user\n",
    "- age: Age of the user\n",
    "- gender: Gender of the user\n",
    "- occupation: Occupation of the user\n",
    "- zip code: Zip code of the use\n",
    "\n",
    "**`Please provide your insights wherever necessary.`**\n",
    "\n",
    "### `Learning Outcomes:`\n",
    "- Exploratory Data Analysis\n",
    "\n",
    "- Visualization using Python\n",
    "\n",
    "- Pandas – groupby, merging \n",
    "\n",
    "\n",
    "### `Domain` \n",
    "- Internet and Entertainment\n",
    "\n",
    "**Note that the project will need you to apply the concepts of groupby and merging extensively.**"
   ]
  },
  {
   "cell_type": "markdown",
   "metadata": {},
   "source": [
    "### 1. Import the necessary packages - 2.5 marks"
   ]
  },
  {
   "cell_type": "code",
   "execution_count": 1,
   "metadata": {},
   "outputs": [],
   "source": [
    "import numpy as np\n",
    "import pandas as pd\n",
    "\n",
    "import pandas_profiling\n",
    "\n",
    "import matplotlib.pyplot as plt\n",
    "import seaborn as sns\n"
   ]
  },
  {
   "cell_type": "markdown",
   "metadata": {},
   "source": [
    "### 2. Read the 3 datasets into dataframes - 2.5 marks"
   ]
  },
  {
   "cell_type": "code",
   "execution_count": 2,
   "metadata": {
    "scrolled": true
   },
   "outputs": [],
   "source": [
    "#your code here\n",
    "df_rating = pd.read_csv('./Data.csv')\n",
    "df_movie=pd.read_csv('./item.csv')\n",
    "df_user=pd.read_csv('./user.csv')"
   ]
  },
  {
   "cell_type": "markdown",
   "metadata": {},
   "source": [
    "### 3. Apply info, shape, describe, and find the number of missing values in the data. Present at least 3 observations from these operations - 2.5 marks\n",
    " - Note that you will need to do it for all the three datasets seperately"
   ]
  },
  {
   "cell_type": "code",
   "execution_count": 3,
   "metadata": {},
   "outputs": [
    {
     "name": "stdout",
     "output_type": "stream",
     "text": [
      "<class 'pandas.core.frame.DataFrame'>\n",
      "RangeIndex: 100000 entries, 0 to 99999\n",
      "Data columns (total 4 columns):\n",
      " #   Column     Non-Null Count   Dtype\n",
      "---  ------     --------------   -----\n",
      " 0   user id    100000 non-null  int64\n",
      " 1   movie id   100000 non-null  int64\n",
      " 2   rating     100000 non-null  int64\n",
      " 3   timestamp  100000 non-null  int64\n",
      "dtypes: int64(4)\n",
      "memory usage: 3.1 MB\n"
     ]
    },
    {
     "data": {
      "text/plain": [
       "user id      0.082533\n",
       "movie id     0.986357\n",
       "rating      -0.510144\n",
       "timestamp    0.173886\n",
       "dtype: float64"
      ]
     },
     "execution_count": 3,
     "metadata": {},
     "output_type": "execute_result"
    }
   ],
   "source": [
    "# df_rating info, shape, describe and profiling \n",
    "df_rating.info()\n",
    "df_rating.shape\n",
    "df_rating.describe()\n",
    "df_rating.isna().sum()\n",
    "\n",
    "df_rating.describe().T\n",
    "df_rating.skew()\n",
    "\n",
    "#df_rating.profile_report()"
   ]
  },
  {
   "cell_type": "code",
   "execution_count": 4,
   "metadata": {},
   "outputs": [
    {
     "name": "stdout",
     "output_type": "stream",
     "text": [
      "<class 'pandas.core.frame.DataFrame'>\n",
      "RangeIndex: 1681 entries, 0 to 1680\n",
      "Data columns (total 22 columns):\n",
      " #   Column        Non-Null Count  Dtype \n",
      "---  ------        --------------  ----- \n",
      " 0   movie id      1681 non-null   int64 \n",
      " 1   movie title   1681 non-null   object\n",
      " 2   release date  1681 non-null   object\n",
      " 3   unknown       1681 non-null   int64 \n",
      " 4   Action        1681 non-null   int64 \n",
      " 5   Adventure     1681 non-null   int64 \n",
      " 6   Animation     1681 non-null   int64 \n",
      " 7   Childrens     1681 non-null   int64 \n",
      " 8   Comedy        1681 non-null   int64 \n",
      " 9   Crime         1681 non-null   int64 \n",
      " 10  Documentary   1681 non-null   int64 \n",
      " 11  Drama         1681 non-null   int64 \n",
      " 12  Fantasy       1681 non-null   int64 \n",
      " 13  Film-Noir     1681 non-null   int64 \n",
      " 14  Horror        1681 non-null   int64 \n",
      " 15  Musical       1681 non-null   int64 \n",
      " 16  Mystery       1681 non-null   int64 \n",
      " 17  Romance       1681 non-null   int64 \n",
      " 18  Sci-Fi        1681 non-null   int64 \n",
      " 19  Thriller      1681 non-null   int64 \n",
      " 20  War           1681 non-null   int64 \n",
      " 21  Western       1681 non-null   int64 \n",
      "dtypes: int64(20), object(2)\n",
      "memory usage: 289.0+ KB\n"
     ]
    },
    {
     "data": {
      "text/plain": [
       "movie id       -0.001127\n",
       "unknown        41.000000\n",
       "Action          1.969685\n",
       "Adventure       3.091314\n",
       "Animation       6.092262\n",
       "Childrens       3.297931\n",
       "Comedy          0.871487\n",
       "Crime           3.537469\n",
       "Documentary     5.541249\n",
       "Drama           0.277717\n",
       "Fantasy         8.576339\n",
       "Film-Noir       8.196097\n",
       "Horror          3.918806\n",
       "Musical         5.205831\n",
       "Mystery         4.963768\n",
       "Romance         1.996252\n",
       "Sci-Fi          3.705670\n",
       "Thriller        1.969685\n",
       "War             4.556006\n",
       "Western         7.705942\n",
       "dtype: float64"
      ]
     },
     "execution_count": 4,
     "metadata": {},
     "output_type": "execute_result"
    }
   ],
   "source": [
    "# df_rating info, shape, describe and profiling \n",
    "df_movie.info()\n",
    "df_movie.shape\n",
    "df_movie.describe()\n",
    "df_movie.isna().sum()\n",
    "\n",
    "df_movie.describe().T\n",
    "df_movie.skew()\n",
    "\n",
    "#df_movie.profile_report()"
   ]
  },
  {
   "cell_type": "code",
   "execution_count": 5,
   "metadata": {},
   "outputs": [
    {
     "name": "stdout",
     "output_type": "stream",
     "text": [
      "<class 'pandas.core.frame.DataFrame'>\n",
      "RangeIndex: 943 entries, 0 to 942\n",
      "Data columns (total 5 columns):\n",
      " #   Column      Non-Null Count  Dtype \n",
      "---  ------      --------------  ----- \n",
      " 0   user id     943 non-null    int64 \n",
      " 1   age         943 non-null    int64 \n",
      " 2   gender      943 non-null    object\n",
      " 3   occupation  943 non-null    object\n",
      " 4   zip code    943 non-null    object\n",
      "dtypes: int64(2), object(3)\n",
      "memory usage: 37.0+ KB\n"
     ]
    },
    {
     "data": {
      "text/html": [
       "<div>\n",
       "<style scoped>\n",
       "    .dataframe tbody tr th:only-of-type {\n",
       "        vertical-align: middle;\n",
       "    }\n",
       "\n",
       "    .dataframe tbody tr th {\n",
       "        vertical-align: top;\n",
       "    }\n",
       "\n",
       "    .dataframe thead th {\n",
       "        text-align: right;\n",
       "    }\n",
       "</style>\n",
       "<table border=\"1\" class=\"dataframe\">\n",
       "  <thead>\n",
       "    <tr style=\"text-align: right;\">\n",
       "      <th></th>\n",
       "      <th>count</th>\n",
       "      <th>mean</th>\n",
       "      <th>std</th>\n",
       "      <th>min</th>\n",
       "      <th>25%</th>\n",
       "      <th>50%</th>\n",
       "      <th>75%</th>\n",
       "      <th>max</th>\n",
       "    </tr>\n",
       "  </thead>\n",
       "  <tbody>\n",
       "    <tr>\n",
       "      <th>user id</th>\n",
       "      <td>943.0</td>\n",
       "      <td>472.000000</td>\n",
       "      <td>272.364951</td>\n",
       "      <td>1.0</td>\n",
       "      <td>236.5</td>\n",
       "      <td>472.0</td>\n",
       "      <td>707.5</td>\n",
       "      <td>943.0</td>\n",
       "    </tr>\n",
       "    <tr>\n",
       "      <th>age</th>\n",
       "      <td>943.0</td>\n",
       "      <td>34.051962</td>\n",
       "      <td>12.192740</td>\n",
       "      <td>7.0</td>\n",
       "      <td>25.0</td>\n",
       "      <td>31.0</td>\n",
       "      <td>43.0</td>\n",
       "      <td>73.0</td>\n",
       "    </tr>\n",
       "  </tbody>\n",
       "</table>\n",
       "</div>"
      ],
      "text/plain": [
       "         count        mean         std  min    25%    50%    75%    max\n",
       "user id  943.0  472.000000  272.364951  1.0  236.5  472.0  707.5  943.0\n",
       "age      943.0   34.051962   12.192740  7.0   25.0   31.0   43.0   73.0"
      ]
     },
     "execution_count": 5,
     "metadata": {},
     "output_type": "execute_result"
    }
   ],
   "source": [
    "df_user.info()\n",
    "df_user.shape\n",
    "df_user.describe()\n",
    "df_user.isna().sum()\n",
    "df_user.describe().T\n",
    "\n",
    "\n",
    "#df_user.profile_report()"
   ]
  },
  {
   "cell_type": "code",
   "execution_count": null,
   "metadata": {},
   "outputs": [],
   "source": []
  },
  {
   "cell_type": "markdown",
   "metadata": {},
   "source": [
    "**Observations:\n",
    "\n",
    "1: Data CSV\n",
    "- Mean rating of the movies is 3.529860\n",
    "- No null values\n",
    "- Rating is left skewed\n",
    "\n",
    "\n",
    "2 Movie csv\n",
    "- HIghest number of movies have Drama Genre\n",
    "- no null values\n",
    "- One movie marked as unknown Genre\n",
    "\n",
    "3: USER CSV\n",
    "- User csv - most of the reviewers have a age of over 25 \n",
    "- no null values\n",
    "- Mean is higher than median for the age - age distrubution of the reviewer is left skewed\n",
    "\n",
    "**\n",
    "\n"
   ]
  },
  {
   "cell_type": "markdown",
   "metadata": {},
   "source": [
    "### 4. Find the number of movies per genre using the item data - 2.5 marks"
   ]
  },
  {
   "cell_type": "code",
   "execution_count": 7,
   "metadata": {},
   "outputs": [
    {
     "data": {
      "text/plain": [
       "unknown          1\n",
       "Action         251\n",
       "Adventure      135\n",
       "Animation       42\n",
       "Childrens      122\n",
       "Comedy         505\n",
       "Crime          109\n",
       "Documentary     50\n",
       "Drama          725\n",
       "Fantasy         22\n",
       "Film-Noir       24\n",
       "Horror          92\n",
       "Musical         56\n",
       "Mystery         61\n",
       "Romance        247\n",
       "Sci-Fi         101\n",
       "Thriller       251\n",
       "War             71\n",
       "Western         27\n",
       "dtype: int64"
      ]
     },
     "execution_count": 7,
     "metadata": {},
     "output_type": "execute_result"
    }
   ],
   "source": [
    "#your code here\n",
    "df_movie_genre=df_movie.copy()\n",
    "\n",
    "\n",
    "df_movie_genre.drop('movie id', axis=1, inplace=True)\n",
    "df_movie_genre.drop('movie title', axis=1, inplace=True)\n",
    "df_movie_genre.drop('release date', axis=1, inplace=True)\n",
    "\n",
    "df_movie_genre.sum()\n"
   ]
  },
  {
   "cell_type": "markdown",
   "metadata": {},
   "source": [
    "**Insights:**\n",
    "\n"
   ]
  },
  {
   "cell_type": "markdown",
   "metadata": {},
   "source": [
    "### 5. Drop the movie where the genre is unknown - 2.5 marks"
   ]
  },
  {
   "cell_type": "code",
   "execution_count": 8,
   "metadata": {},
   "outputs": [
    {
     "data": {
      "text/plain": [
       "0    1680\n",
       "Name: unknown, dtype: int64"
      ]
     },
     "execution_count": 8,
     "metadata": {},
     "output_type": "execute_result"
    }
   ],
   "source": [
    "#your code here\n",
    "df_movie['unknown'].value_counts()\n",
    "df_movie.drop(df_movie[df_movie['unknown'] == 1].index, inplace = True)\n",
    "df_movie['unknown'].value_counts()"
   ]
  },
  {
   "cell_type": "markdown",
   "metadata": {},
   "source": [
    "**Insights:**\n"
   ]
  },
  {
   "cell_type": "markdown",
   "metadata": {},
   "source": [
    "### 6. Find the movies that have more than one genre - 5 marks\n",
    "\n",
    "hint: use sum on the axis = 1\n",
    "\n",
    "Display movie name, number of genres for the movie in dataframe\n",
    "\n",
    "and also print(total number of movies which have more than one genres)"
   ]
  },
  {
   "cell_type": "code",
   "execution_count": 27,
   "metadata": {},
   "outputs": [
    {
     "name": "stdout",
     "output_type": "stream",
     "text": [
      "             movie title  genre_num\n",
      "0             Toy Story           3\n",
      "1             GoldenEye           3\n",
      "3            Get Shorty           3\n",
      "4               Copycat           3\n",
      "6        Twelve Monkeys           2\n",
      "...                  ...        ...\n",
      "1667  MURDER and murder           3\n",
      "1668            Tainted           2\n",
      "1671             Mirage           2\n",
      "1677          B. Monkey           2\n",
      "1678      Sliding Doors           2\n",
      "\n",
      "[849 rows x 2 columns]\n",
      "Total number of movies with multiple Genres are: \n",
      "849\n"
     ]
    }
   ],
   "source": [
    "#your code here\n",
    "# create another column which is sum of all the genre type \n",
    "df_movie['genre_num']=df_movie['Action']+df_movie['Adventure']+df_movie['Animation']+df_movie['Childrens']+df_movie['Comedy']+df_movie['Crime']+df_movie['Documentary']+df_movie['Drama'] +df_movie['Fantasy']+df_movie['Film-Noir']+df_movie['Horror'] +df_movie['Musical'] +df_movie['Mystery'] +df_movie['Romance'] +df_movie['Sci-Fi'] +df_movie['Thriller'] +df_movie['War'] +df_movie['Western']\n",
    "df_movie_multi_genre=df_movie[df_movie['genre_num']>1]\n",
    "df_movie_multi_genre[['movie title','genre_num']]\n",
    "\n",
    "print(df_movie_multi_genre[['movie title','genre_num']])\n",
    "\n",
    "print('Total number of movies with multiple Genres are: ')\n",
    "print(len(df_movie_multi_genre.index))\n",
    "\n"
   ]
  },
  {
   "cell_type": "markdown",
   "metadata": {},
   "source": [
    "**Insights:**\n",
    "\n"
   ]
  },
  {
   "cell_type": "markdown",
   "metadata": {},
   "source": [
    "### 7. Univariate plots of columns: 'rating', 'Age', 'release year', 'Gender' and 'Occupation' - 10 marks\n",
    "\n",
    "*HINT: Use distplot for age and countplot for release year, ratings, \n",
    "\n",
    "*\n",
    "\n",
    "*HINT: Please refer to the below snippet to understand how to get to release year from release date. You can use str.split() as depicted below or you could convert it to pandas datetime format and extract year (.dt.year)*"
   ]
  },
  {
   "cell_type": "code",
   "execution_count": 28,
   "metadata": {},
   "outputs": [
    {
     "name": "stdout",
     "output_type": "stream",
     "text": [
      "brown\n",
      "brown\n",
      "brown\n"
     ]
    }
   ],
   "source": [
    "a = 'My*cat*is*brown'\n",
    "print(a.split('*')[3])\n",
    "\n",
    "#similarly, the release year needs to be taken out from release date\n",
    "\n",
    "#also you can simply slice existing string to get the desired data, if we want to take out the colour of the cat\n",
    "\n",
    "print(a[10:])\n",
    "print(a[-5:])"
   ]
  },
  {
   "cell_type": "code",
   "execution_count": 29,
   "metadata": {},
   "outputs": [
    {
     "name": "stderr",
     "output_type": "stream",
     "text": [
      "/Users/nirjhar/opt/anaconda3/lib/python3.7/site-packages/seaborn/_decorators.py:43: FutureWarning: Pass the following variable as a keyword arg: x. From version 0.12, the only valid positional argument will be `data`, and passing other arguments without an explicit keyword will result in an error or misinterpretation.\n",
      "  FutureWarning\n"
     ]
    },
    {
     "data": {
      "image/png": "[encoded data removed]",
      "text/plain": [
       "<Figure size 432x288 with 1 Axes>"
      ]
     },
     "metadata": {
      "needs_background": "light"
     },
     "output_type": "display_data"
    }
   ],
   "source": [
    "sns.countplot(df_rating['rating']);"
   ]
  },
  {
   "cell_type": "code",
   "execution_count": 30,
   "metadata": {},
   "outputs": [
    {
     "data": {
      "image/png": "[encoded data removed]",
      "text/plain": [
       "<Figure size 360x360 with 1 Axes>"
      ]
     },
     "metadata": {
      "needs_background": "light"
     },
     "output_type": "display_data"
    }
   ],
   "source": [
    "sns.displot(df_user['age'],kde=True);"
   ]
  },
  {
   "cell_type": "code",
   "execution_count": 45,
   "metadata": {},
   "outputs": [
    {
     "data": {
      "image/png": "[encoded data removed]",
      "text/plain": [
       "<Figure size 1080x432 with 1 Axes>"
      ]
     },
     "metadata": {
      "needs_background": "light"
     },
     "output_type": "display_data"
    }
   ],
   "source": [
    "#release year\n",
    "\n",
    "df_movie['release_date'] = pd.to_datetime(df_movie['release date'])\n",
    "df_movie['year']=df_movie['release_date'].dt.year\n",
    "\n",
    "\n",
    "chart_dimension = (15, 6)\n",
    "fig, ax = plt.subplots(figsize=chart_dimension)\n",
    "chart = sns.countplot(data=df_movie, x=\"year\", ax=ax);\n",
    "chart.set_xticklabels(chart.get_xticklabels(), rotation=90)\n",
    "None\n",
    "\n",
    "\n",
    "#sns.countplot(df_movie['year']);"
   ]
  },
  {
   "cell_type": "code",
   "execution_count": 32,
   "metadata": {},
   "outputs": [
    {
     "name": "stderr",
     "output_type": "stream",
     "text": [
      "/Users/nirjhar/opt/anaconda3/lib/python3.7/site-packages/seaborn/_decorators.py:43: FutureWarning: Pass the following variable as a keyword arg: x. From version 0.12, the only valid positional argument will be `data`, and passing other arguments without an explicit keyword will result in an error or misinterpretation.\n",
      "  FutureWarning\n"
     ]
    },
    {
     "data": {
      "image/png": "[encoded data removed]",
      "text/plain": [
       "<Figure size 432x288 with 1 Axes>"
      ]
     },
     "metadata": {
      "needs_background": "light"
     },
     "output_type": "display_data"
    }
   ],
   "source": [
    "sns.countplot(df_user['gender']);"
   ]
  },
  {
   "cell_type": "code",
   "execution_count": 46,
   "metadata": {},
   "outputs": [
    {
     "data": {
      "image/png": "[encoded data removed]",
      "text/plain": [
       "<Figure size 1080x432 with 1 Axes>"
      ]
     },
     "metadata": {
      "needs_background": "light"
     },
     "output_type": "display_data"
    }
   ],
   "source": [
    "chart_dimension = (15, 6)\n",
    "fig, ax = plt.subplots(figsize=chart_dimension)\n",
    "chart = sns.countplot(data=df_user, x=\"occupation\", ax=ax);\n",
    "chart.set_xticklabels(chart.get_xticklabels(), rotation=90)\n",
    "None\n"
   ]
  },
  {
   "cell_type": "code",
   "execution_count": 17,
   "metadata": {},
   "outputs": [],
   "source": [
    "#your code here"
   ]
  },
  {
   "cell_type": "markdown",
   "metadata": {},
   "source": [
    "### 8. Visualize how popularity of genres has changed over the years - 10 marks\n",
    "\n",
    "Note that you need to use the **percent of number of releases in a year** as a parameter of popularity of a genre\n",
    "\n",
    "Hint 1: You need to reach to a data frame where the release year is the index and the genre is the column names (one cell shows the number of release in a year in one genre) or vice versa. (Drop unnecessary column if there are any)\n",
    "\n",
    "Hint 2: Find the total number of movies release in a year(use item dataset to get count of movies released in a particular year, store that value in a new column as 'total'). Now divide the value of each genre in that year by total to get percentage number of release in a particular year.\n",
    "`(df.div(df['total'], axis= 0) * 100)`\n",
    "\n",
    "Once that is achieved, you can either use univariate plots or can use the heatmap to visualise all the changes over the years \n",
    "in one go. \n",
    "\n",
    "Hint 3: Use groupby on the relevant column and use sum() on the same to find out the number of releases in a year/genre."
   ]
  },
  {
   "cell_type": "code",
   "execution_count": 51,
   "metadata": {},
   "outputs": [
    {
     "data": {
      "image/png": "[encoded data removed]",
      "text/plain": [
       "<Figure size 1080x720 with 2 Axes>"
      ]
     },
     "metadata": {
      "needs_background": "light"
     },
     "output_type": "display_data"
    }
   ],
   "source": [
    "#your code here\n",
    "\n",
    "#creating a copy and cleaning up not required fields\n",
    "#Year column was added in the section above - to determine the release year from the date column\n",
    "df_genre = df_movie.copy()\n",
    "df_genre.set_index('year',inplace=True)\n",
    "df_genre.drop(['movie id','movie title','release date','release_date','genre_num','unknown'], axis=1, inplace=True)\n",
    "\n",
    "df_genre.head()\n",
    "\n",
    "#renaming the column to remove the - in the names\n",
    "df_genre.rename(columns = {'Film-Noir':'FilmNoir'}, inplace=True)\n",
    "df_genre.rename(columns = {'Sci-Fi':'SciFi'}, inplace=True)\n",
    "\n",
    "# creating series for each genre\n",
    "action=df_genre.groupby('year').sum()['Action']\n",
    "adventure=df_genre.groupby('year').sum()['Adventure']\n",
    "animation=df_genre.groupby('year').sum()['Animation']\n",
    "childrens=df_genre.groupby('year').sum()['Childrens']\n",
    "comedy=df_genre.groupby('year').sum()['Comedy']\n",
    "crime=df_genre.groupby('year').sum()['Crime']\n",
    "documentary=df_genre.groupby('year').sum()['Documentary']\n",
    "drama=df_genre.groupby('year').sum()['Drama']\n",
    "fantasy=df_genre.groupby('year').sum()['Fantasy']\n",
    "filmNoir=df_genre.groupby('year').sum()['FilmNoir']\n",
    "horror=df_genre.groupby('year').sum()['Horror']\n",
    "musical=df_genre.groupby('year').sum()['Musical']\n",
    "mystery=df_genre.groupby('year').sum()['Mystery']\n",
    "romance=df_genre.groupby('year').sum()['Romance']\n",
    "sciFi=df_genre.groupby('year').sum()['SciFi']\n",
    "thriller=df_genre.groupby('year').sum()['Thriller']\n",
    "war=df_genre.groupby('year').sum()['War']\n",
    "western=df_genre.groupby('year').sum()['Western']\n",
    "\n",
    "\n",
    "\n",
    "# Data frame with is concat of the series for each genre - by year \n",
    "df_final = pd.concat([action,adventure,animation,childrens,comedy,crime,documentary,drama,fantasy,filmNoir,horror,musical,mystery,romance,sciFi,thriller,war,western],axis=1)\n",
    "\n",
    "\n",
    "# convert to percentage\n",
    "df_final['total']=df_final['Action']+df_final['Adventure']+df_final['Animation']+df_final['Childrens']+df_final['Comedy']+df_final['Crime']+df_final['Documentary']+df_final['Drama']+df_final['Fantasy']+df_final['FilmNoir']+df_final['Horror']+df_final['Musical']+df_final['Mystery']+df_final['Romance']+df_final['SciFi']+df_final['Thriller']+df_final['War']+df_final['Western']\n",
    "\n",
    "\n",
    "df_final['Action_pct']= (df_final['Action']/df_final['total'])*100\n",
    "df_final.drop('Action', axis=1, inplace=True)\n",
    "\n",
    "df_final['Adventure_pct']= (df_final['Adventure']/df_final['total'])*100\n",
    "df_final.drop('Adventure', axis=1, inplace=True)\n",
    "\n",
    "df_final['Animation_pct']= (df_final['Animation']/df_final['total'])*100\n",
    "df_final.drop('Animation', axis=1, inplace=True)\n",
    "\n",
    "df_final['Childrens_pct']= (df_final['Childrens']/df_final['total'])*100\n",
    "df_final.drop('Childrens', axis=1, inplace=True)\n",
    "\n",
    "df_final['Comedy_pct']= (df_final['Comedy']/df_final['total'])*100\n",
    "df_final.drop('Comedy', axis=1, inplace=True)\n",
    "\n",
    "df_final['Crime_pct']= (df_final['Crime']/df_final['total'])*100\n",
    "df_final.drop('Crime', axis=1, inplace=True)\n",
    "\n",
    "df_final['Documentary_pct']= (df_final['Documentary']/df_final['total'])*100\n",
    "df_final.drop('Documentary', axis=1, inplace=True)\n",
    "\n",
    "df_final['Drama_pct']= (df_final['Drama']/df_final['total'])*100\n",
    "df_final.drop('Drama', axis=1, inplace=True)\n",
    "\n",
    "df_final['Fantasy_pct']= (df_final['Fantasy']/df_final['total'])*100\n",
    "df_final.drop('Fantasy', axis=1, inplace=True)\n",
    "\n",
    "df_final['FilmNoir_pct']= (df_final['FilmNoir']/df_final['total'])*100\n",
    "df_final.drop('FilmNoir', axis=1, inplace=True)\n",
    "\n",
    "df_final['Horror_pct']= (df_final['Horror']/df_final['total'])*100\n",
    "df_final.drop('Horror', axis=1, inplace=True)\n",
    "\n",
    "df_final['Musical_pct']= (df_final['Musical']/df_final['total'])*100\n",
    "df_final.drop('Musical', axis=1, inplace=True)\n",
    "\n",
    "df_final['Mystery_pct']= (df_final['Mystery']/df_final['total'])*100\n",
    "df_final.drop('Mystery', axis=1, inplace=True)\n",
    "\n",
    "df_final['Romance_pct']= (df_final['Romance']/df_final['total'])*100\n",
    "df_final.drop('Romance', axis=1, inplace=True)\n",
    "\n",
    "df_final['SciFi_pct']= (df_final['SciFi']/df_final['total'])*100\n",
    "df_final.drop('SciFi', axis=1, inplace=True)\n",
    "\n",
    "df_final['Thriller_pct']= (df_final['Thriller']/df_final['total'])*100\n",
    "df_final.drop('Thriller', axis=1, inplace=True)\n",
    "\n",
    "df_final['War_pct']= (df_final['War']/df_final['total'])*100\n",
    "df_final.drop('War', axis=1, inplace=True)\n",
    "\n",
    "df_final['Western_pct']= (df_final['Western']/df_final['total'])*100\n",
    "df_final.drop('Western', axis=1, inplace=True)\n",
    "\n",
    "\n",
    "df_final.head()\n",
    "#df_final.profile_report()\n",
    "\n",
    "#example of univariate plot -similar one can be created for all\n",
    "#sns.distplot(df_final['Action_pct'], kde = True);\n",
    "df_final.drop('total', axis=1, inplace=True)\n",
    "\n",
    "#heatmap\n",
    "\n",
    "chart_dimension = (15, 10)\n",
    "fig, ax = plt.subplots(figsize=chart_dimension)\n",
    "chart = sns.heatmap(df_final);\n",
    "None\n"
   ]
  },
  {
   "cell_type": "markdown",
   "metadata": {},
   "source": [
    "**Insights:**\n",
    "\n"
   ]
  },
  {
   "cell_type": "code",
   "execution_count": 65,
   "metadata": {},
   "outputs": [
    {
     "data": {
      "text/html": [
       "<div>\n",
       "<style scoped>\n",
       "    .dataframe tbody tr th:only-of-type {\n",
       "        vertical-align: middle;\n",
       "    }\n",
       "\n",
       "    .dataframe tbody tr th {\n",
       "        vertical-align: top;\n",
       "    }\n",
       "\n",
       "    .dataframe thead th {\n",
       "        text-align: right;\n",
       "    }\n",
       "</style>\n",
       "<table border=\"1\" class=\"dataframe\">\n",
       "  <thead>\n",
       "    <tr style=\"text-align: right;\">\n",
       "      <th></th>\n",
       "      <th>Action</th>\n",
       "      <th>Adventure</th>\n",
       "      <th>Animation</th>\n",
       "      <th>Childrens</th>\n",
       "      <th>Comedy</th>\n",
       "      <th>Crime</th>\n",
       "      <th>Documentary</th>\n",
       "      <th>Drama</th>\n",
       "      <th>Fantasy</th>\n",
       "      <th>FilmNoir</th>\n",
       "      <th>Horror</th>\n",
       "      <th>Musical</th>\n",
       "      <th>Mystery</th>\n",
       "      <th>Romance</th>\n",
       "      <th>SciFi</th>\n",
       "      <th>Thriller</th>\n",
       "      <th>War</th>\n",
       "      <th>Western</th>\n",
       "    </tr>\n",
       "    <tr>\n",
       "      <th>year</th>\n",
       "      <th></th>\n",
       "      <th></th>\n",
       "      <th></th>\n",
       "      <th></th>\n",
       "      <th></th>\n",
       "      <th></th>\n",
       "      <th></th>\n",
       "      <th></th>\n",
       "      <th></th>\n",
       "      <th></th>\n",
       "      <th></th>\n",
       "      <th></th>\n",
       "      <th></th>\n",
       "      <th></th>\n",
       "      <th></th>\n",
       "      <th></th>\n",
       "      <th></th>\n",
       "      <th></th>\n",
       "    </tr>\n",
       "  </thead>\n",
       "  <tbody>\n",
       "    <tr>\n",
       "      <th>1922</th>\n",
       "      <td>0.000000</td>\n",
       "      <td>0.000000</td>\n",
       "      <td>0.000000</td>\n",
       "      <td>0.000000</td>\n",
       "      <td>0.000000</td>\n",
       "      <td>0.000000</td>\n",
       "      <td>0.000000</td>\n",
       "      <td>0.000000</td>\n",
       "      <td>0.000000</td>\n",
       "      <td>0.000000</td>\n",
       "      <td>100.000000</td>\n",
       "      <td>0.000000</td>\n",
       "      <td>0.000000</td>\n",
       "      <td>0.000000</td>\n",
       "      <td>0.000000</td>\n",
       "      <td>0.000000</td>\n",
       "      <td>0.000000</td>\n",
       "      <td>0.000000</td>\n",
       "    </tr>\n",
       "    <tr>\n",
       "      <th>1926</th>\n",
       "      <td>0.000000</td>\n",
       "      <td>0.000000</td>\n",
       "      <td>0.000000</td>\n",
       "      <td>0.000000</td>\n",
       "      <td>0.000000</td>\n",
       "      <td>0.000000</td>\n",
       "      <td>0.000000</td>\n",
       "      <td>100.000000</td>\n",
       "      <td>0.000000</td>\n",
       "      <td>0.000000</td>\n",
       "      <td>0.000000</td>\n",
       "      <td>0.000000</td>\n",
       "      <td>0.000000</td>\n",
       "      <td>0.000000</td>\n",
       "      <td>0.000000</td>\n",
       "      <td>0.000000</td>\n",
       "      <td>0.000000</td>\n",
       "      <td>0.000000</td>\n",
       "    </tr>\n",
       "    <tr>\n",
       "      <th>1930</th>\n",
       "      <td>0.000000</td>\n",
       "      <td>0.000000</td>\n",
       "      <td>0.000000</td>\n",
       "      <td>0.000000</td>\n",
       "      <td>0.000000</td>\n",
       "      <td>0.000000</td>\n",
       "      <td>0.000000</td>\n",
       "      <td>100.000000</td>\n",
       "      <td>0.000000</td>\n",
       "      <td>0.000000</td>\n",
       "      <td>0.000000</td>\n",
       "      <td>0.000000</td>\n",
       "      <td>0.000000</td>\n",
       "      <td>0.000000</td>\n",
       "      <td>0.000000</td>\n",
       "      <td>0.000000</td>\n",
       "      <td>0.000000</td>\n",
       "      <td>0.000000</td>\n",
       "    </tr>\n",
       "    <tr>\n",
       "      <th>1931</th>\n",
       "      <td>0.000000</td>\n",
       "      <td>0.000000</td>\n",
       "      <td>0.000000</td>\n",
       "      <td>0.000000</td>\n",
       "      <td>0.000000</td>\n",
       "      <td>33.333333</td>\n",
       "      <td>0.000000</td>\n",
       "      <td>0.000000</td>\n",
       "      <td>0.000000</td>\n",
       "      <td>33.333333</td>\n",
       "      <td>0.000000</td>\n",
       "      <td>0.000000</td>\n",
       "      <td>0.000000</td>\n",
       "      <td>0.000000</td>\n",
       "      <td>0.000000</td>\n",
       "      <td>33.333333</td>\n",
       "      <td>0.000000</td>\n",
       "      <td>0.000000</td>\n",
       "    </tr>\n",
       "    <tr>\n",
       "      <th>1932</th>\n",
       "      <td>0.000000</td>\n",
       "      <td>0.000000</td>\n",
       "      <td>0.000000</td>\n",
       "      <td>0.000000</td>\n",
       "      <td>0.000000</td>\n",
       "      <td>0.000000</td>\n",
       "      <td>0.000000</td>\n",
       "      <td>0.000000</td>\n",
       "      <td>0.000000</td>\n",
       "      <td>0.000000</td>\n",
       "      <td>0.000000</td>\n",
       "      <td>0.000000</td>\n",
       "      <td>0.000000</td>\n",
       "      <td>50.000000</td>\n",
       "      <td>0.000000</td>\n",
       "      <td>0.000000</td>\n",
       "      <td>50.000000</td>\n",
       "      <td>0.000000</td>\n",
       "    </tr>\n",
       "    <tr>\n",
       "      <th>...</th>\n",
       "      <td>...</td>\n",
       "      <td>...</td>\n",
       "      <td>...</td>\n",
       "      <td>...</td>\n",
       "      <td>...</td>\n",
       "      <td>...</td>\n",
       "      <td>...</td>\n",
       "      <td>...</td>\n",
       "      <td>...</td>\n",
       "      <td>...</td>\n",
       "      <td>...</td>\n",
       "      <td>...</td>\n",
       "      <td>...</td>\n",
       "      <td>...</td>\n",
       "      <td>...</td>\n",
       "      <td>...</td>\n",
       "      <td>...</td>\n",
       "      <td>...</td>\n",
       "    </tr>\n",
       "    <tr>\n",
       "      <th>1994</th>\n",
       "      <td>8.498584</td>\n",
       "      <td>3.682720</td>\n",
       "      <td>1.133144</td>\n",
       "      <td>4.249292</td>\n",
       "      <td>23.229462</td>\n",
       "      <td>2.266289</td>\n",
       "      <td>2.549575</td>\n",
       "      <td>27.478754</td>\n",
       "      <td>0.849858</td>\n",
       "      <td>0.000000</td>\n",
       "      <td>2.266289</td>\n",
       "      <td>0.566572</td>\n",
       "      <td>0.566572</td>\n",
       "      <td>9.915014</td>\n",
       "      <td>1.983003</td>\n",
       "      <td>7.082153</td>\n",
       "      <td>1.983003</td>\n",
       "      <td>1.699717</td>\n",
       "    </tr>\n",
       "    <tr>\n",
       "      <th>1995</th>\n",
       "      <td>10.498688</td>\n",
       "      <td>5.774278</td>\n",
       "      <td>1.574803</td>\n",
       "      <td>5.511811</td>\n",
       "      <td>16.535433</td>\n",
       "      <td>2.887139</td>\n",
       "      <td>1.312336</td>\n",
       "      <td>23.359580</td>\n",
       "      <td>0.787402</td>\n",
       "      <td>0.262467</td>\n",
       "      <td>3.674541</td>\n",
       "      <td>0.787402</td>\n",
       "      <td>1.312336</td>\n",
       "      <td>9.711286</td>\n",
       "      <td>3.937008</td>\n",
       "      <td>10.236220</td>\n",
       "      <td>1.312336</td>\n",
       "      <td>0.524934</td>\n",
       "    </tr>\n",
       "    <tr>\n",
       "      <th>1996</th>\n",
       "      <td>7.871199</td>\n",
       "      <td>4.293381</td>\n",
       "      <td>1.610018</td>\n",
       "      <td>3.756708</td>\n",
       "      <td>19.320215</td>\n",
       "      <td>3.756708</td>\n",
       "      <td>3.220036</td>\n",
       "      <td>30.411449</td>\n",
       "      <td>1.073345</td>\n",
       "      <td>0.178891</td>\n",
       "      <td>1.967800</td>\n",
       "      <td>1.610018</td>\n",
       "      <td>1.073345</td>\n",
       "      <td>6.797853</td>\n",
       "      <td>2.683363</td>\n",
       "      <td>8.407871</td>\n",
       "      <td>1.610018</td>\n",
       "      <td>0.357782</td>\n",
       "    </tr>\n",
       "    <tr>\n",
       "      <th>1997</th>\n",
       "      <td>9.274194</td>\n",
       "      <td>4.032258</td>\n",
       "      <td>0.604839</td>\n",
       "      <td>4.435484</td>\n",
       "      <td>17.540323</td>\n",
       "      <td>6.048387</td>\n",
       "      <td>1.209677</td>\n",
       "      <td>22.782258</td>\n",
       "      <td>0.806452</td>\n",
       "      <td>0.403226</td>\n",
       "      <td>1.612903</td>\n",
       "      <td>1.008065</td>\n",
       "      <td>3.629032</td>\n",
       "      <td>10.282258</td>\n",
       "      <td>2.620968</td>\n",
       "      <td>10.887097</td>\n",
       "      <td>2.822581</td>\n",
       "      <td>0.000000</td>\n",
       "    </tr>\n",
       "    <tr>\n",
       "      <th>1998</th>\n",
       "      <td>10.256410</td>\n",
       "      <td>2.564103</td>\n",
       "      <td>0.000000</td>\n",
       "      <td>0.854701</td>\n",
       "      <td>11.111111</td>\n",
       "      <td>5.982906</td>\n",
       "      <td>2.564103</td>\n",
       "      <td>28.205128</td>\n",
       "      <td>0.854701</td>\n",
       "      <td>1.709402</td>\n",
       "      <td>3.418803</td>\n",
       "      <td>0.854701</td>\n",
       "      <td>2.564103</td>\n",
       "      <td>9.401709</td>\n",
       "      <td>4.273504</td>\n",
       "      <td>15.384615</td>\n",
       "      <td>0.000000</td>\n",
       "      <td>0.000000</td>\n",
       "    </tr>\n",
       "  </tbody>\n",
       "</table>\n",
       "<p>71 rows × 18 columns</p>\n",
       "</div>"
      ],
      "text/plain": [
       "         Action  Adventure  Animation  Childrens     Comedy      Crime  \\\n",
       "year                                                                     \n",
       "1922   0.000000   0.000000   0.000000   0.000000   0.000000   0.000000   \n",
       "1926   0.000000   0.000000   0.000000   0.000000   0.000000   0.000000   \n",
       "1930   0.000000   0.000000   0.000000   0.000000   0.000000   0.000000   \n",
       "1931   0.000000   0.000000   0.000000   0.000000   0.000000  33.333333   \n",
       "1932   0.000000   0.000000   0.000000   0.000000   0.000000   0.000000   \n",
       "...         ...        ...        ...        ...        ...        ...   \n",
       "1994   8.498584   3.682720   1.133144   4.249292  23.229462   2.266289   \n",
       "1995  10.498688   5.774278   1.574803   5.511811  16.535433   2.887139   \n",
       "1996   7.871199   4.293381   1.610018   3.756708  19.320215   3.756708   \n",
       "1997   9.274194   4.032258   0.604839   4.435484  17.540323   6.048387   \n",
       "1998  10.256410   2.564103   0.000000   0.854701  11.111111   5.982906   \n",
       "\n",
       "      Documentary       Drama   Fantasy   FilmNoir      Horror   Musical  \\\n",
       "year                                                                       \n",
       "1922     0.000000    0.000000  0.000000   0.000000  100.000000  0.000000   \n",
       "1926     0.000000  100.000000  0.000000   0.000000    0.000000  0.000000   \n",
       "1930     0.000000  100.000000  0.000000   0.000000    0.000000  0.000000   \n",
       "1931     0.000000    0.000000  0.000000  33.333333    0.000000  0.000000   \n",
       "1932     0.000000    0.000000  0.000000   0.000000    0.000000  0.000000   \n",
       "...           ...         ...       ...        ...         ...       ...   \n",
       "1994     2.549575   27.478754  0.849858   0.000000    2.266289  0.566572   \n",
       "1995     1.312336   23.359580  0.787402   0.262467    3.674541  0.787402   \n",
       "1996     3.220036   30.411449  1.073345   0.178891    1.967800  1.610018   \n",
       "1997     1.209677   22.782258  0.806452   0.403226    1.612903  1.008065   \n",
       "1998     2.564103   28.205128  0.854701   1.709402    3.418803  0.854701   \n",
       "\n",
       "       Mystery    Romance     SciFi   Thriller        War   Western  \n",
       "year                                                                 \n",
       "1922  0.000000   0.000000  0.000000   0.000000   0.000000  0.000000  \n",
       "1926  0.000000   0.000000  0.000000   0.000000   0.000000  0.000000  \n",
       "1930  0.000000   0.000000  0.000000   0.000000   0.000000  0.000000  \n",
       "1931  0.000000   0.000000  0.000000  33.333333   0.000000  0.000000  \n",
       "1932  0.000000  50.000000  0.000000   0.000000  50.000000  0.000000  \n",
       "...        ...        ...       ...        ...        ...       ...  \n",
       "1994  0.566572   9.915014  1.983003   7.082153   1.983003  1.699717  \n",
       "1995  1.312336   9.711286  3.937008  10.236220   1.312336  0.524934  \n",
       "1996  1.073345   6.797853  2.683363   8.407871   1.610018  0.357782  \n",
       "1997  3.629032  10.282258  2.620968  10.887097   2.822581  0.000000  \n",
       "1998  2.564103   9.401709  4.273504  15.384615   0.000000  0.000000  \n",
       "\n",
       "[71 rows x 18 columns]"
      ]
     },
     "execution_count": 65,
     "metadata": {},
     "output_type": "execute_result"
    }
   ],
   "source": [
    "\n",
    "#creating a copy and cleaning up not required fields\n",
    "#Year column was added in the section above - to determine the release year from the date column\n",
    "df_genre = df_movie.copy()\n",
    "df_genre.set_index('year',inplace=True)\n",
    "df_genre.drop(['movie id','movie title','release date','release_date','genre_num','unknown'], axis=1, inplace=True)\n",
    "\n",
    "df_genre.head()\n",
    "\n",
    "#renaming the column to remove the - in the names\n",
    "df_genre.rename(columns = {'Film-Noir':'FilmNoir'}, inplace=True)\n",
    "df_genre.rename(columns = {'Sci-Fi':'SciFi'}, inplace=True)\n",
    "\n",
    "\n",
    "df_genre_sum = df_genre.groupby('year').sum()\n",
    "df_genre_sum['total']=df_genre_sum.sum(axis=1)\n",
    "df_genre_pct=(df_genre_sum.div(df_genre_sum['total'], axis = 0)*100)\n",
    "\n",
    "df_genre_pct.drop(['total'], axis=1, inplace=True)\n",
    "df_genre_pct.head(100)\n",
    "\n",
    "\n",
    "\n",
    "#df_genre_final=df_genre_sum\n",
    "\n",
    "\n",
    "\n"
   ]
  },
  {
   "cell_type": "markdown",
   "metadata": {},
   "source": [
    "### 9. Find the top 25 movies in terms of average ratings for movies that have been rated more than 100 times - 10 marks\n",
    "\n",
    "Hints : \n",
    "\n",
    "1. Find the count of ratings and average ratings for every movie.\n",
    "2. Slice the movies which have ratings more than 100.\n",
    "3. Sort values according to average rating such that movie which highest rating is on top.\n",
    "4. Select top 25 movies.\n",
    "5. You will have to use the .merge() function to get the movie titles.\n",
    "\n",
    "Note: This question will need you to research about groupby and apply your findings. You can find more on groupby on https://realpython.com/pandas-groupby/."
   ]
  },
  {
   "cell_type": "code",
   "execution_count": 31,
   "metadata": {},
   "outputs": [
    {
     "data": {
      "text/plain": [
       "0                                       Close Shave, A \n",
       "1                                     Schindler's List \n",
       "2                                  Wrong Trousers, The \n",
       "3                                           Casablanca \n",
       "4                            Shawshank Redemption, The \n",
       "5                                          Rear Window \n",
       "6                                  Usual Suspects, The \n",
       "7                                            Star Wars \n",
       "8                                         12 Angry Men \n",
       "9                                         Citizen Kane \n",
       "10                               To Kill a Mockingbird \n",
       "11                     One Flew Over the Cuckoo's Nest \n",
       "12                           Silence of the Lambs, The \n",
       "13                                  North by Northwest \n",
       "14                                      Godfather, The \n",
       "15                                      Secrets & Lies \n",
       "16                                   Good Will Hunting \n",
       "17                           Manchurian Candidate, The \n",
       "18    Dr. Strangelove or: How I Learned to Stop Worr...\n",
       "19                             Raiders of the Lost Ark \n",
       "20                                             Vertigo \n",
       "21                                             Titanic \n",
       "22                                  Lawrence of Arabia \n",
       "23                                 Maltese Falcon, The \n",
       "24                            Empire Strikes Back, The \n",
       "Name: movie title, dtype: object"
      ]
     },
     "execution_count": 31,
     "metadata": {},
     "output_type": "execute_result"
    }
   ],
   "source": [
    "#your code here\n",
    "\n",
    "# 1 \n",
    "df_local_rating = df_rating.copy()\n",
    "#column which will be used for rating_count information\n",
    "df_local_rating['rating_count'] = df_local_rating['rating'] \n",
    "\n",
    "ser1=df_local_rating.groupby('movie id')[\"rating_count\"].count()\n",
    "ser2 = df_local_rating.groupby('movie id')[\"rating\"].mean()\n",
    "\n",
    "df1=pd.concat([ser1,ser2],axis=1,sort=False)\n",
    "\n",
    "# 2 - dropping rows for movie IDs where equal to or less than 100 ratings\n",
    "df1.drop(df1[df1['rating_count']<101].index,inplace = True)\n",
    "\n",
    "# 3 sorting by movie ratings\n",
    "df1.sort_values(by='rating',ascending=False,inplace=True)\n",
    "df1.head(25)\n",
    "\n",
    "#4,5 - merging with the movie title - df_movie dataframe\n",
    "\n",
    "df2 = pd.merge(df1, df_movie, on = 'movie id', how= 'left' )\n",
    "\n",
    "movie_titles = df2['movie title'].head(25)\n",
    "\n",
    "movie_titles\n"
   ]
  },
  {
   "cell_type": "markdown",
   "metadata": {},
   "source": [
    "### 10. Check for the validity of the below statements with respect to the data provided - 10 marks\n",
    "\n",
    "* Men watch more drama than women\n",
    "* Women watch more Sci-Fi than men\n",
    "* Men watch more Romance than women\n",
    "\n",
    "**compare the percentages**\n",
    "\n",
    "**Please pay attention to what should be the denominator while calculating percentages**"
   ]
  },
  {
   "cell_type": "markdown",
   "metadata": {},
   "source": [
    "1. Merge all the datasets\n",
    "\n",
    "2. There is no need to conduct statistical tests around this. Just **compare the percentages** and comment on the validity of the above statements.\n",
    "\n",
    "3. you might want ot use the .sum(), .div() function here.\n",
    "\n",
    "4. Use number of ratings to validate the numbers. For example, if out of 4000 ratings received by women, 3000 are for drama, we will assume that 75% of the women watch drama."
   ]
  },
  {
   "cell_type": "code",
   "execution_count": 24,
   "metadata": {},
   "outputs": [
    {
     "name": "stdout",
     "output_type": "stream",
     "text": [
      "gender\n",
      "F    11008.0\n",
      "M    28887.0\n",
      "Name: Drama, dtype: float64\n",
      "gender\n",
      "F     2629.0\n",
      "M    10101.0\n",
      "Name: Sci-Fi, dtype: float64\n",
      "gender\n",
      "F     5858.0\n",
      "M    13603.0\n",
      "Name: Romance, dtype: float64\n"
     ]
    }
   ],
   "source": [
    "#your code here\n",
    "# creating a new copy of df_rating to merge all the dataframes\n",
    "df_rating_merged=df_rating.copy()\n",
    "\n",
    "df_rating_merged  = pd.merge(df_rating_merged, df_user, on = 'user id', how= 'left' )\n",
    "df_rating_merged = pd.merge(df_rating_merged, df_movie, on = 'movie id', how= 'left' )\n",
    "##merge merge 1 (data/item) with user - on user id, left join \n",
    "\n",
    "df_rating_merged.describe()\n",
    "\n",
    "# 1 - count of reviews by Gender - genre Drama - output shows more men have reviewed drama Genre movies compared to women\n",
    "# 74252 Men vs 25738 women - Statement is true\n",
    "\n",
    "drama=df_rating_merged.groupby('gender')[\"Drama\"].sum()\n",
    "print(drama)\n",
    "\n",
    "# 2 - count of reviews by Gender - genre Sci-Fi - Men watch more sci-fi than women -- Statement is false\n",
    "\n",
    "scifi=df_rating_merged.groupby('gender')[\"Sci-Fi\"].sum()\n",
    "print(scifi)\n",
    "\n",
    "# 3 - count of reviews by Gender - genre Sci-Fi - Men watch more sci-fi than women -- Statement is false\n",
    "\n",
    "romance=df_rating_merged.groupby('gender')[\"Romance\"].sum()\n",
    "print(romance)\n",
    "\n",
    "## \n",
    "##Men watch more drama than women -- CORRECT - see numbers above Men have given 28887 reviews for drama genre compared to 11008 reviews by Women\n",
    "##Women watch more Sci-Fi than men -- INCORRECT -more reviews by men in Sci-Fi genre compared to women \n",
    "##Men watch more Romance than women -- CORRECT - more reviews by Men in romance genre compared to women "
   ]
  },
  {
   "cell_type": "markdown",
   "metadata": {},
   "source": [
    "**Conclusion:**\n",
    "    \n"
   ]
  }
 ],
 "metadata": {
  "kernelspec": {
   "display_name": "Python 3",
   "language": "python",
   "name": "python3"
  },
  "language_info": {
   "codemirror_mode": {
    "name": "ipython",
    "version": 3
   },
   "file_extension": ".py",
   "mimetype": "text/x-python",
   "name": "python",
   "nbconvert_exporter": "python",
   "pygments_lexer": "ipython3",
   "version": "3.7.10"
  }
 },
 "nbformat": 4,
 "nbformat_minor": 2
}
